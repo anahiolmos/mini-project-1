{
 "cells": [
  {
   "cell_type": "markdown",
   "id": "c7b2290d",
   "metadata": {},
   "source": [
    "# Tic Tac Toe!"
   ]
  },
  {
   "cell_type": "code",
   "execution_count": 1,
   "id": "a307025c",
   "metadata": {},
   "outputs": [],
   "source": [
    "from IPython.display import clear_output\n",
    "import random\n",
    "from termcolor import colored"
   ]
  },
  {
   "cell_type": "code",
   "execution_count": 2,
   "id": "11388bda",
   "metadata": {},
   "outputs": [],
   "source": [
    "def display_tablero(tablero):\n",
    "    clear_output()\n",
    "\n",
    "    print(\"\\n\")\n",
    "    print('\\t       |      |')\n",
    "    print('\\t '+ '   ' + tablero[7] + '  | ' + '  ' + tablero[8] + '  | ' + ' ' + tablero[9])\n",
    "    print('\\t ______|______|______')\n",
    "    \n",
    "    \n",
    "    print('\\t       |      |')\n",
    "    print('\\t '+ '   ' + tablero[4] + '  | ' + '  ' + tablero[5] + '  | ' + ' ' + tablero[6])\n",
    "    print('\\t ______|______|______')\n",
    "    \n",
    "    \n",
    "    \n",
    "    print('\\t       |      |')\n",
    "    print('\\t '+ '   ' + tablero[1] + '  | ' + '  ' + tablero[2] + '  | ' + ' ' + tablero[3])\n",
    "    print('\\t       |      |')\n",
    "    print(\"\\n\")"
   ]
  },
  {
   "cell_type": "code",
   "execution_count": 43,
   "id": "a355dfe6",
   "metadata": {},
   "outputs": [],
   "source": [
    "def jugador_input():\n",
    "    \n",
    "    '''\n",
    "    En esta función los jugadores eligen X o O.\n",
    "    Si Jugador 1 es X/O, Jugador 2 es en automático lo contrario.\n",
    "    '''\n",
    "    \n",
    "    marca = \" \"\n",
    "    \n",
    "    while marca != \"X\" and marca != \"O\":\n",
    "        marca = input(\"Jugador 1 - Elige 'X' o 'O':  \").upper()\n",
    "    \n",
    "        if marca not in [\"X\", \"O\"]:\n",
    "            print(\"Por favor elige 'X' o 'O'\")\n",
    "        \n",
    "    jugador1 = marca\n",
    "    \n",
    "    if jugador1 == 'X':\n",
    "        jugador2 = 'O'\n",
    "    \n",
    "    else:\n",
    "        jugador2 = 'X'\n",
    "    \n",
    "    return(jugador1, jugador2)"
   ]
  },
  {
   "cell_type": "code",
   "execution_count": 4,
   "id": "0ff047df",
   "metadata": {},
   "outputs": [],
   "source": [
    "def marca_posicion(tablero, marca, posicion):\n",
    "    \n",
    "    '''\n",
    "    Asignar el X-O en la posición deseada (1-9) del tablero.\n",
    "    '''\n",
    "    \n",
    "    tablero[posicion] = marca"
   ]
  },
  {
   "cell_type": "code",
   "execution_count": 5,
   "id": "e9520f48",
   "metadata": {},
   "outputs": [],
   "source": [
    "def ganador_combinaciones(tablero, marca):\n",
    "    \n",
    "    '''\n",
    "    Posibles combinaciones de ganar: 1) todas filas (rows), 2) todas columnas, 3) 2 diagonales.\n",
    "    '''\n",
    "\n",
    "# 1) todas las filas:\n",
    "# arriba (7-8-9)\n",
    "    return ((tablero[7] == marca and tablero[8] == marca and tablero[9] == marca) or\n",
    "# medio (4-5-6)   \n",
    "    (tablero[4] == marca and tablero[5] == marca and tablero[6] == marca) or\n",
    "# abajo (1-2-3) \n",
    "    (tablero[1] == marca and tablero[2] == marca and tablero[3] == marca) or\n",
    "     \n",
    "# 2) todas las columnas:\n",
    "# columna (1-4-7)\n",
    "    (tablero[1] == marca and tablero[4] == marca and tablero[7] == marca) or\n",
    "# columna (2-5-8)    \n",
    "    (tablero[2] == marca and tablero[5] == marca and tablero[8] == marca) or\n",
    "# columna (3-6-9) \n",
    "    (tablero[3] == marca and tablero[6] == marca and tablero[9] == marca) or \n",
    "     \n",
    "# 3) diagonales  \n",
    "# diagonal (1-5-9)     \n",
    "    (tablero[1] == marca and tablero[5] == marca and tablero[9] == marca) or\n",
    "# diagonal (3-5-7)   \n",
    "    (tablero[3] == marca and tablero[5] == marca and tablero[7] == marca))"
   ]
  },
  {
   "cell_type": "code",
   "execution_count": 6,
   "id": "340d9a5a",
   "metadata": {},
   "outputs": [],
   "source": [
    "num_tablero = ['#','1','2','3','4','5','6','7','8','9']"
   ]
  },
  {
   "cell_type": "code",
   "execution_count": 7,
   "id": "bd4859e4",
   "metadata": {},
   "outputs": [],
   "source": [
    "def juega_primero():\n",
    "    \n",
    "    '''\n",
    "    Definir quien juega primero con un random entre 1 y 2.\n",
    "    '''\n",
    "    \n",
    "    if random.randint(1, 2) == 1:\n",
    "        return 'Jugador 1'\n",
    "    else:\n",
    "        return 'Jugador 2'"
   ]
  },
  {
   "cell_type": "code",
   "execution_count": 8,
   "id": "b94d9173",
   "metadata": {},
   "outputs": [],
   "source": [
    "def espacio_disponible(tablero, posicion):\n",
    "    \n",
    "    '''\n",
    "    Boleano que indique un espacio libre en el tablero de juego.\n",
    "    '''\n",
    "    \n",
    "    return tablero[posicion] == ' '"
   ]
  },
  {
   "cell_type": "code",
   "execution_count": 9,
   "id": "37925087",
   "metadata": {},
   "outputs": [],
   "source": [
    "def tablero_lleno(tablero):\n",
    "    \n",
    "    '''\n",
    "    Boleano que indique si el tablero de juego está lleno.\n",
    "    '''\n",
    "    \n",
    "    for i in range(1,10):\n",
    "        \n",
    "        if espacio_disponible(tablero, i):\n",
    "            return False\n",
    "    \n",
    "    return True"
   ]
  },
  {
   "cell_type": "code",
   "execution_count": 40,
   "id": "e94a848d",
   "metadata": {},
   "outputs": [],
   "source": [
    "def jugador_eleccion(tablero):\n",
    "    \n",
    "    '''\n",
    "    Elección de la posición de cada jugador.\n",
    "    '''\n",
    "    \n",
    "    posicion = 0\n",
    "    rango_posiciones = range(1, 10)\n",
    "    \n",
    "    while posicion not in rango_posiciones or not espacio_disponible(tablero, posicion):\n",
    "        posicion = input('Elige una posicion (1-9):   ')\n",
    "        \n",
    "        if posicion not in [rango_posiciones]:\n",
    "            print(\"Por favor elige un número entre 1 y 9.\")\n",
    "        \n",
    "        if posicion.isdigit() == False:\n",
    "            print(\"\\t \")\n",
    "            \n",
    "        else:\n",
    "            posicion = int(posicion)\n",
    "\n",
    "            \n",
    "    return posicion"
   ]
  },
  {
   "cell_type": "code",
   "execution_count": 62,
   "id": "c14912d2",
   "metadata": {},
   "outputs": [],
   "source": [
    "def jugar_de_nuevo():\n",
    "    \n",
    "    '''\n",
    "    Al terminar la partida, pregunta si desea jugar de nuevo.\n",
    "    '''\n",
    "    \n",
    "    juego_nuevo = input('¿Jugar de nuevo? (Si o No) - ').lower()\n",
    "    \n",
    "    if juego_nuevo == 'si' or juego_nuevo == 'no':\n",
    "        return juego_nuevo == 'si'\n",
    "    \n",
    "    else:\n",
    "        print(\"Por favor elige 'Si' o 'No'.\")\n",
    "        \n",
    "        jugar_de_nuevo()"
   ]
  },
  {
   "cell_type": "markdown",
   "id": "4396b8d1",
   "metadata": {},
   "source": [
    "## Código completo"
   ]
  },
  {
   "cell_type": "code",
   "execution_count": 85,
   "id": "73cce2e2",
   "metadata": {
    "scrolled": true
   },
   "outputs": [
    {
     "name": "stdout",
     "output_type": "stream",
     "text": [
      "\n",
      "\n",
      "\t       |      |\n",
      "\t    X  |   O  |  X\n",
      "\t ______|______|______\n",
      "\t       |      |\n",
      "\t    O  |   O  |  X\n",
      "\t ______|______|______\n",
      "\t       |      |\n",
      "\t    X  |   X  |  O\n",
      "\t       |      |\n",
      "\n",
      "\n",
      "¡Es un empate!\n",
      "¿Jugar de nuevo? (Si o No) - no\n"
     ]
    }
   ],
   "source": [
    "print(colored('Tic TAC TOE!', 'blue', attrs=['bold']).center(50))\n",
    "\n",
    "print('\\n')\n",
    "\n",
    "# while loop hacer correr el juego\n",
    "while True:\n",
    "    \n",
    "# Parámetros de inicio\n",
    "    # tablero limpio\n",
    "    tablero_limpio = [' '] * 10\n",
    "    \n",
    "    # marca de cada jugador\n",
    "    jugador1_marca , jugador2_marca = jugador_input()\n",
    "    \n",
    "    # quien va primero\n",
    "    turno = juega_primero()\n",
    "    print(f'\\n ¡{turno} vas tu primero!')\n",
    "    \n",
    "    # Inicio del juego\n",
    "    inicio_juego = input('¿Comenzar juego? Si o No - ')\n",
    "    \n",
    "    if inicio_juego.lower()[0] == 's':\n",
    "        inicio_juego = True\n",
    "    else:\n",
    "        inicio_juego = False\n",
    "    \n",
    "    # Inicio del juego:\n",
    "    while inicio_juego:\n",
    "        if turno == 'Jugador 1':\n",
    "            \n",
    "            print('Vas jugador 1')\n",
    "            # Jugador 1 - turno\n",
    "            display_tablero(tablero_limpio)\n",
    "            posicion = jugador_eleccion(tablero_limpio)\n",
    "            marca_posicion(tablero_limpio, jugador1_marca, posicion)\n",
    "            \n",
    "            \n",
    "            if ganador_combinaciones(tablero_limpio, jugador1_marca):\n",
    "                display_tablero(tablero_limpio)\n",
    "                print ('¡Felicidades, Jugador 1 ganaste!')\n",
    "\n",
    "                ## se rompe while loop\n",
    "                inicio_juego = False \n",
    "            \n",
    "            else:\n",
    "                if tablero_lleno(tablero_limpio):\n",
    "                    display_tablero(tablero_limpio)\n",
    "                    print ('¡Es un empate!')\n",
    "                    inicio_juego = False\n",
    "                    \n",
    "                else:\n",
    "                    turno = 'Jugador 2'\n",
    "                    \n",
    "            # Jugador 2 -turno\n",
    "            \n",
    "        else:\n",
    "            display_tablero(tablero_limpio)\n",
    "            posicion = jugador_eleccion(tablero_limpio)\n",
    "            marca_posicion(tablero_limpio, jugador2_marca, posicion)\n",
    "            \n",
    "            if ganador_combinaciones(tablero_limpio, jugador2_marca):\n",
    "                display_tablero(tablero_limpio)\n",
    "                print ('¡Felicidades, Jugador 2 ganaste!')\n",
    "\n",
    "                ## se rompe while loop\n",
    "                inicio_juego = False \n",
    "            \n",
    "            else:\n",
    "                if tablero_lleno(tablero_limpio):\n",
    "                    display_tablero(tablero_limpio)\n",
    "                    print ('¡Es un empate!')\n",
    "                    inicio_juego = False\n",
    "                    \n",
    "                else:\n",
    "                    turno = 'Jugador 1'\n",
    "        \n",
    "    if jugar_de_nuevo(): \n",
    "        continue\n",
    "        \n",
    "    else: \n",
    "        on = False\n",
    "        break"
   ]
  },
  {
   "cell_type": "markdown",
   "id": "08250c10",
   "metadata": {},
   "source": [
    "---\n",
    "## Numeración visual de tablero"
   ]
  },
  {
   "cell_type": "code",
   "execution_count": 24,
   "id": "e9b6b619",
   "metadata": {
    "scrolled": true
   },
   "outputs": [
    {
     "name": "stdout",
     "output_type": "stream",
     "text": [
      "\n",
      "\n",
      "\t       |      |\n",
      "\t    7  |   8  |  9\n",
      "\t ______|______|______\n",
      "\t       |      |\n",
      "\t    4  |   5  |  6\n",
      "\t ______|______|______\n",
      "\t       |      |\n",
      "\t    1  |   2  |  3\n",
      "\t       |      |\n",
      "\n",
      "\n"
     ]
    }
   ],
   "source": [
    "display_tablero(num_tablero)"
   ]
  }
 ],
 "metadata": {
  "kernelspec": {
   "display_name": "Python 3 (ipykernel)",
   "language": "python",
   "name": "python3"
  },
  "language_info": {
   "codemirror_mode": {
    "name": "ipython",
    "version": 3
   },
   "file_extension": ".py",
   "mimetype": "text/x-python",
   "name": "python",
   "nbconvert_exporter": "python",
   "pygments_lexer": "ipython3",
   "version": "3.9.7"
  }
 },
 "nbformat": 4,
 "nbformat_minor": 5
}
